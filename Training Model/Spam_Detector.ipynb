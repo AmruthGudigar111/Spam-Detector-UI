{
 "cells": [
  {
   "cell_type": "markdown",
   "metadata": {},
   "source": [
    "# 📧 Spam Detection using Machine Learning\n",
    "Train a model and serve it with FastAPI."
   ]
  },
  {
   "cell_type": "code",
   "execution_count": 1,
   "metadata": {},
   "outputs": [
    {
     "name": "stdout",
     "output_type": "stream",
     "text": [
      "Model trained and saved.\n"
     ]
    }
   ],
   "source": [
    "import pandas as pd\n",
    "from sklearn.model_selection import train_test_split\n",
    "from sklearn.feature_extraction.text import TfidfVectorizer\n",
    "from sklearn.naive_bayes import MultinomialNB\n",
    "from sklearn.pipeline import Pipeline\n",
    "import joblib\n",
    "\n",
    "# Load dataset\n",
    "df = pd.read_csv('spam.csv', encoding='latin1')\n",
    "\n",
    "# Rename columns to standard names\n",
    "df = df.rename(columns={'v1': 'label', 'v2': 'text'})\n",
    "\n",
    "# Only keep the necessary columns\n",
    "df = df[['label', 'text']]\n",
    "\n",
    "df['label'] = df['label'].map({'ham': 0, 'spam': 1})\n",
    "\n",
    "X_train, X_test, y_train, y_test = train_test_split(df['text'], df['label'], test_size=0.2)\n",
    "pipeline = Pipeline([('tfidf', TfidfVectorizer()), ('nb', MultinomialNB())])\n",
    "pipeline.fit(X_train, y_train)\n",
    "joblib.dump(pipeline, '../spam_model.pkl', compress=3, protocol=4)\n",
    "print('Model trained and saved.')"
   ]
  }
 ],
 "metadata": {
  "kernelspec": {
   "display_name": "Python 3",
   "language": "python",
   "name": "python3"
  },
  "language_info": {
   "codemirror_mode": {
    "name": "ipython",
    "version": 3
   },
   "file_extension": ".py",
   "mimetype": "text/x-python",
   "name": "python",
   "nbconvert_exporter": "python",
   "pygments_lexer": "ipython3",
   "version": "3.13.3"
  }
 },
 "nbformat": 4,
 "nbformat_minor": 2
}
